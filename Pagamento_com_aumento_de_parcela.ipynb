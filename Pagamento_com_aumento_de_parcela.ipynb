{
 "cells": [
  {
   "cell_type": "code",
   "execution_count": 21,
   "source": [
    "meses = ['jan', 'fev', 'mar', 'abr', 'maio', 'jun', 'jul', 'ago', 'set', 'out', 'nov', 'dec']\r\n",
    "valor_inicio = 100"
   ],
   "outputs": [],
   "metadata": {}
  },
  {
   "cell_type": "code",
   "execution_count": 55,
   "source": [
    "topay = int(input('Insira o valor total a ser pago: '))\r\n",
    "\r\n",
    "cont,cont2, contall = 0,0,1\r\n",
    "parcela = valor_inicio\r\n",
    "valor = 0\r\n",
    "while(valor<topay and valor + parcela <topay):\r\n",
    "    valor = parcela + valor\r\n",
    "    print(f\"{contall}º - \" + meses[cont] + f\"\\t= {valor}  ||  parcela = {parcela}\")\r\n",
    "    \r\n",
    "    cont+=1 #Defini os meses\r\n",
    "    if cont>11:\r\n",
    "        cont=0\r\n",
    "\r\n",
    "    if cont2 <1: #Defini a quantidade de meses para aumeto de parcela\r\n",
    "        cont2+=1\r\n",
    "    else:\r\n",
    "        parcela = parcela + 100\r\n",
    "        cont2 = 0\r\n",
    "\r\n",
    "    contall+=1 #Conta meses\r\n",
    "\r\n",
    "print(f\"{contall}º - \" + meses[cont] + f\" = {topay}  ||  parcela = {topay-valor}  || restante\")"
   ],
   "outputs": [
    {
     "output_type": "stream",
     "name": "stdout",
     "text": [
      "1º - jan\t= 100  ||  parcela = 100\n",
      "2º - fev\t= 200  ||  parcela = 100\n",
      "3º - mar\t= 400  ||  parcela = 200\n",
      "4º - abr\t= 600  ||  parcela = 200\n",
      "5º - maio\t= 900  ||  parcela = 300\n",
      "6º - jun\t= 1200  ||  parcela = 300\n",
      "7º - jul\t= 1600  ||  parcela = 400\n",
      "8º - ago\t= 2000  ||  parcela = 400\n",
      "9º - set\t= 2500  ||  parcela = 500\n",
      "10º - out\t= 3000  ||  parcela = 500\n",
      "11º - nov\t= 3600  ||  parcela = 600\n",
      "12º - dec\t= 4200  ||  parcela = 600\n",
      "13º - jan\t= 4900  ||  parcela = 700\n",
      "14º - fev\t= 5600  ||  parcela = 700\n",
      "15º - mar\t= 6400  ||  parcela = 800\n",
      "16º - abr\t= 7200  ||  parcela = 800\n",
      "17º - maio\t= 8100  ||  parcela = 900\n",
      "18º - jun\t= 9000  ||  parcela = 900\n",
      "19º - jul = 10000  ||  parcela = 1000  || restante\n"
     ]
    }
   ],
   "metadata": {}
  },
  {
   "cell_type": "code",
   "execution_count": 51,
   "source": [
    "topay = int(input('Insira o valor total a ser pago: '))\r\n",
    "\r\n",
    "cont,cont2, contall = 0,0,1\r\n",
    "parcela = valor_inicio\r\n",
    "valor = 0\r\n",
    "while(valor<topay and valor + parcela <topay):\r\n",
    "    valor = parcela + valor\r\n",
    "    print(f\"{contall}º - \" + meses[cont] + f\" = {valor}  ||  parcela = {parcela}\")\r\n",
    "    \r\n",
    "    cont+=1 #Defini os meses\r\n",
    "    if cont>11:\r\n",
    "        cont=0\r\n",
    "\r\n",
    "    if cont2 <2: #Defini a quantidade de meses para aumeto de parcela\r\n",
    "        cont2+=1\r\n",
    "    else:\r\n",
    "        parcela = parcela + 100\r\n",
    "        cont2 = 0\r\n",
    "\r\n",
    "    contall+=1 #Conta meses\r\n",
    "\r\n",
    "print(f\"{contall}º - \" + meses[cont] + f\" = {topay}  ||  parcela = {topay-valor}  || restante\")"
   ],
   "outputs": [
    {
     "output_type": "stream",
     "name": "stdout",
     "text": [
      "1º - jan = 100  ||  parcela = 100\n",
      "2º - fev = 200  ||  parcela = 100\n",
      "3º - mar = 300  ||  parcela = 100\n",
      "4º - abr = 500  ||  parcela = 200\n",
      "5º - maio = 700  ||  parcela = 200\n",
      "6º - jun = 900  ||  parcela = 200\n",
      "7º - jul = 1200  ||  parcela = 300\n",
      "8º - ago = 1500  ||  parcela = 300\n",
      "9º - set = 1800  ||  parcela = 300\n",
      "10º - out = 2200  ||  parcela = 400\n",
      "11º - nov = 2600  ||  parcela = 400\n",
      "12º - dec = 3000  ||  parcela = 400\n",
      "13º - jan = 3500  ||  parcela = 500\n",
      "14º - fev = 4000  ||  parcela = 500\n",
      "15º - mar = 4500  ||  parcela = 500\n",
      "16º - abr = 5100  ||  parcela = 600\n",
      "17º - maio = 5700  ||  parcela = 600\n",
      "18º - jun = 6300  ||  parcela = 600\n",
      "19º - jul = 7000  ||  parcela = 700\n",
      "20º - ago = 7700  ||  parcela = 700\n",
      "21º - set = 8400  ||  parcela = 700\n",
      "22º - out = 9200  ||  parcela = 800\n",
      "23º - nov = 10000  ||  parcela = 800  || restante\n"
     ]
    }
   ],
   "metadata": {}
  }
 ],
 "metadata": {
  "orig_nbformat": 4,
  "language_info": {
   "name": "python",
   "version": "3.9.4",
   "mimetype": "text/x-python",
   "codemirror_mode": {
    "name": "ipython",
    "version": 3
   },
   "pygments_lexer": "ipython3",
   "nbconvert_exporter": "python",
   "file_extension": ".py"
  },
  "kernelspec": {
   "name": "python3",
   "display_name": "Python 3.9.4 64-bit ('cabonmail': conda)"
  },
  "interpreter": {
   "hash": "8f92c8b14ce5f5e227575fcb485d6bb27c006b1bbcb345e023af736292ff82e8"
  }
 },
 "nbformat": 4,
 "nbformat_minor": 2
}